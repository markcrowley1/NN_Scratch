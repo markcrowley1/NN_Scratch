{
 "cells": [
  {
   "cell_type": "markdown",
   "metadata": {},
   "source": [
    "# Convolutional Neural Network Classifier\n",
    "\n",
    "To be continued"
   ]
  },
  {
   "cell_type": "code",
   "execution_count": 7,
   "metadata": {},
   "outputs": [],
   "source": [
    "import numpy as np\n",
    "import tensorflow as tf\n",
    "import matplotlib.pyplot as plt"
   ]
  },
  {
   "cell_type": "code",
   "execution_count": 8,
   "metadata": {},
   "outputs": [],
   "source": [
    "# Download mnist fashion dataset\n",
    "dataset = tf.keras.datasets.fashion_mnist\n",
    "(x_train, y_train), (x_test, y_test) = dataset.load_data()\n",
    "\n",
    "# Normalise Inputs (Images) for Training and Test Data\n",
    "x_train = tf.keras.utils.normalize(x_train, axis=1)\n",
    "x_test = tf.keras.utils.normalize(x_test, axis=1)\n",
    "\n",
    "# Convert labels to one hot encoding\n",
    "y_train_one_hot = np.zeros((y_train.size, y_train.max() + 1))\n",
    "y_train_one_hot[np.arange(y_train.size), y_train] = 1"
   ]
  },
  {
   "cell_type": "code",
   "execution_count": 9,
   "metadata": {},
   "outputs": [
    {
     "name": "stdout",
     "output_type": "stream",
     "text": [
      "0\n"
     ]
    },
    {
     "data": {
      "image/png": "[encoded data removed]",
      "text/plain": [
       "<Figure size 640x480 with 1 Axes>"
      ]
     },
     "metadata": {},
     "output_type": "display_data"
    }
   ],
   "source": [
    "def view_data(x):\n",
    "    plt.imshow(x, cmap = plt.cm.binary)\n",
    "    plt.show()\n",
    "    return\n",
    "\n",
    "# Map int labels to real labels\n",
    "labels = [\"T-Shirt\", \"Trouser\", \"Pullover\", \"Dress\", \"Coat\",\n",
    "          \"Sandal\", \"Shirt\", \"Sneaker\", \"Bag\", \"Ankle Boot\"]\n",
    "\n",
    "# Show an image\n",
    "print(y_train[10])\n",
    "view_data(x_train[10])"
   ]
  },
  {
   "cell_type": "code",
   "execution_count": null,
   "metadata": {},
   "outputs": [],
   "source": [
    "def relu(Z):\n",
    "    \"\"\" Rectified Linear Unit - Activation Function \"\"\"\n",
    "    return np.maximum(Z, 0)\n",
    "\n",
    "def relu_derivative(Z):\n",
    "    \"\"\" Derivative of ReLU function \"\"\"\n",
    "    return Z > 0\n",
    "\n",
    "def softmax(x: np.ndarray):\n",
    "    \"\"\" Softmax function for Output Vectors \"\"\"\n",
    "    # First, Values are shifted to reduce chance of generating NaN values\n",
    "    x = x - np.max(x)\n",
    "    exp_x = np.exp(x)\n",
    "    return exp_x / np.sum(exp_x, axis=0, keepdims=True)\n",
    "\n",
    "def cost_function(y_hat: np.ndarray, y: np.ndarray):\n",
    "    \"\"\"\n",
    "    Categorical Cross Entropy Cost Function for a Batch of Samples\n",
    "    y_hat: the predictions made by the network for input x\n",
    "        y: the true value of the label corresponding to input x\n",
    "    \"\"\"\n",
    "    losses = []\n",
    "    for t, p in zip(y, y_hat):\n",
    "        loss = -np.sum(t * np.log(p))\n",
    "        losses.append(loss)\n",
    "    return np.sum(losses)/len(losses)"
   ]
  },
  {
   "cell_type": "code",
   "execution_count": null,
   "metadata": {},
   "outputs": [],
   "source": [
    "def initialise_parameters() -> list[np.ndarray]:\n",
    "    pass\n",
    "\n",
    "def feed_forward():\n",
    "    pass\n",
    "\n",
    "def back_propagate():\n",
    "    pass\n",
    "\n",
    "def update_parameters():\n",
    "    pass"
   ]
  },
  {
   "cell_type": "code",
   "execution_count": null,
   "metadata": {},
   "outputs": [],
   "source": [
    "# Training Loop Settings\n",
    "EPOCHS = 3\n",
    "BATCH_SIZE = 64\n",
    "LEARNING_RATE = 0.1\n",
    "n_samples = x_train.shape[0]\n",
    "losses = []\n",
    "# Training Loop\n",
    "for epoch in range(EPOCHS):\n",
    "    for idx in range(0, n_samples, BATCH_SIZE):\n",
    "        break\n",
    "    break"
   ]
  }
 ],
 "metadata": {
  "kernelspec": {
   "display_name": "nn_scratch",
   "language": "python",
   "name": "python3"
  },
  "language_info": {
   "codemirror_mode": {
    "name": "ipython",
    "version": 3
   },
   "file_extension": ".py",
   "mimetype": "text/x-python",
   "name": "python",
   "nbconvert_exporter": "python",
   "pygments_lexer": "ipython3",
   "version": "3.11.5"
  }
 },
 "nbformat": 4,
 "nbformat_minor": 2
}
