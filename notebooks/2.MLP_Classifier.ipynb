{
 "cells": [
  {
   "cell_type": "markdown",
   "metadata": {},
   "source": [
    "# Multi Layer Perceptron Classifier\n",
    "\n",
    "Implementing a neural network using numpy to classify images of handrawn digits in MNIST dataset. The network will be a simple multilayer perceptron with 2 hidden layers.\n",
    "\n",
    "First we import the packages we need for the notebook. Numpy to build the network, matplotlib to provide any plots and tensorflow to easily load in the MNIST dataset."
   ]
  },
  {
   "cell_type": "code",
   "execution_count": 284,
   "metadata": {},
   "outputs": [],
   "source": [
    "import numpy as np\n",
    "import tensorflow as tf\n",
    "import matplotlib.pyplot as plt"
   ]
  },
  {
   "cell_type": "markdown",
   "metadata": {},
   "source": [
    "Next we load in the MNIST dataset and take care of any data preprocessing. This includes normalising the pixel values of the images and converting the labels from integer values to one hot encoding."
   ]
  },
  {
   "cell_type": "code",
   "execution_count": 285,
   "metadata": {},
   "outputs": [],
   "source": [
    "# Load in MNIST data, generating train and test splits\n",
    "dataset = tf.keras.datasets.mnist\n",
    "(x_train, y_train), (x_test, y_test) = dataset.load_data()\n",
    "\n",
    "# Normalise Inputs (Images) for Training and Test Data\n",
    "x_train = tf.keras.utils.normalize(x_train, axis=1)\n",
    "x_test = tf.keras.utils.normalize(x_test, axis=1)\n",
    "\n",
    "# Convert labels to one hot encoding\n",
    "y_train_one_hot = np.zeros((y_train.size, y_train.max() + 1))\n",
    "y_train_one_hot[np.arange(y_train.size), y_train] = 1"
   ]
  },
  {
   "cell_type": "markdown",
   "metadata": {},
   "source": [
    "In the next section we write cost function and the activation functions that will be used in the network. We use a categorical cross entropy cost function to compute a loss value for the network. We have chosen to use sigmoid functions on the outputs of the hidden layers and a softmax function on the output layer.\n",
    "\n",
    "Additionally, we need to implement the derivative of the sigmoid function to facilitate backpropagation of error through the network during training. There is no reason to directly compute the derivative of the softmax function due to a nice mathematical property we can use to simplify the process:"
   ]
  },
  {
   "cell_type": "code",
   "execution_count": 286,
   "metadata": {},
   "outputs": [],
   "source": [
    "def flatten_input(x):\n",
    "    \"\"\" Flatten 2D image to one dimension so that it fits dense layer \"\"\"\n",
    "    flattened_input = x.reshape((x.shape[0], -1)).swapaxes(0,1)\n",
    "    return flattened_input\n",
    "\n",
    "def sigmoid(x):\n",
    "    \"\"\" Sigmoid/Logistic Function \"\"\"\n",
    "    return 1 / (1 + np.exp(x))\n",
    "\n",
    "def sigmoid_derivative(x):\n",
    "    \"\"\" Derivative of Sigmoid Function \"\"\"\n",
    "    return sigmoid(x) * (1 - sigmoid(x))\n",
    "\n",
    "def relu(Z):\n",
    "    \"\"\" Rectified Linear Unit - Activation Function \"\"\"\n",
    "    return np.maximum(Z, 0)\n",
    "\n",
    "def relu_derivative(Z):\n",
    "    \"\"\" Derivative of ReLU function \"\"\"\n",
    "    return Z > 0\n",
    "\n",
    "def softmax(x: np.ndarray):\n",
    "    \"\"\" Softmax function for Output Vectors \"\"\"\n",
    "    # First, Values are shifted to reduce chance of generating NaN values\n",
    "    x = x - np.max(x)\n",
    "    exp_x = np.exp(x)\n",
    "    return exp_x / np.sum(exp_x, axis=0, keepdims=True)\n",
    "\n",
    "def cost_function(y_hat: np.ndarray, y: np.ndarray):\n",
    "    \"\"\"\n",
    "    Categorical Cross Entropy Cost Function for a Batch of Samples\n",
    "    y_hat: the predictions made by the network for input x\n",
    "        y: the true value of the label corresponding to input x\n",
    "    \"\"\"\n",
    "    losses = []\n",
    "    for t, p in zip(y, y_hat):\n",
    "        loss = -np.sum(t * np.log(p))\n",
    "        losses.append(loss)\n",
    "    return np.sum(losses)/len(losses)"
   ]
  },
  {
   "cell_type": "markdown",
   "metadata": {},
   "source": [
    "Now we can define some of the processes that will occur in our training loop."
   ]
  },
  {
   "cell_type": "code",
   "execution_count": 287,
   "metadata": {},
   "outputs": [],
   "source": [
    "def initialise_parameters(input_size: int):\n",
    "    \"\"\" Initialise weight and bias vectors with random values\"\"\"\n",
    "    # First initialise weights\n",
    "    # Dim1 = size of previous layer\n",
    "    # Dim2 = size of current layer\n",
    "    w1 = np.random.rand(128, input_size) - 0.5\n",
    "    w2 = np.random.rand(128, 128) - 0.5\n",
    "    w3 = np.random.rand(10, 128) - 0.5\n",
    "\n",
    "    # Initialising biases\n",
    "    # Dim is size of layer\n",
    "    b1 = np.random.rand(128, 1) - 0.5\n",
    "    b2 = np.random.rand(128, 1) - 0.5\n",
    "    b3 = np.random.rand(10, 1) - 0.5\n",
    "\n",
    "    return w1, b1, w2, b2, w3, b3\n",
    "\n",
    "def feed_forward(x_data: np.ndarray, parameters: list[np.ndarray]) -> np.ndarray:\n",
    "    \"\"\" Feed input forward through the network \"\"\"\n",
    "    # Unpack parameters\n",
    "    w1, b1, w2, b2, w3, b3 = parameters\n",
    "    # Flatten 2D image to 1D\n",
    "    x_data = flatten_input(x_data)\n",
    "    # Pass through hidden layer 1\n",
    "    z1 = w1.dot(x_data) + b1\n",
    "    a1 = relu(z1)\n",
    "    # Pass through hidden layer 2\n",
    "    z2 = w2.dot(a1) + b2\n",
    "    a2 = relu(z2)\n",
    "    # Pass through output layer\n",
    "    z3 = w3.dot(a2) + b3\n",
    "    a3 = softmax(z3)\n",
    "    # (a3 is the output of the network)\n",
    "    # Keep track of inputs and outputs to each layer for backpropagation\n",
    "    layer_io = [z1, a1, z2, a2, z3, a3]\n",
    "    return layer_io\n",
    "\n",
    "def back_propagate(\n",
    "        x: np.ndarray,\n",
    "        y: np.ndarray, \n",
    "        layer_io: list[np.ndarray],\n",
    "        parameters: list[np.ndarray]\n",
    "    ):\n",
    "    \"\"\"\n",
    "    Backpropagate through the network starting from the network prediction.\n",
    "    Returns the gradients for each layer of the network.\n",
    "    \"\"\"\n",
    "    # Unpack weight/bias params and layer inputs/outputs\n",
    "    z1, a1, z2, a2, z3, a3 = layer_io\n",
    "    w1, b1, w2, b2, w3, b3 = parameters\n",
    "    x = flatten_input(x)\n",
    "    # Check batch size so we can get average gradients\n",
    "    batch_size = y.shape[0]\n",
    "    # Backpropagation Algorithm\n",
    "    # Output Layer\n",
    "    dz3 = a3 - y # y_hat == a3\n",
    "    dw3 = (1/batch_size) * dz3.dot(a2.T)\n",
    "    db3 = (1/batch_size) * np.sum(dz3, axis=1).reshape(b3.size, 1)\n",
    "    # Second Hidden Layer\n",
    "    dz2 = w3.T.dot(dz3) * relu_derivative(z2)\n",
    "    dw2 = (1/batch_size) * dz2.dot(a1.T)\n",
    "    db2 = (1/batch_size) * np.sum(dz2, axis=1).reshape(b2.size, 1)\n",
    "    # First Hidden Layer\n",
    "    dz1 = w2.T.dot(dz2) * relu_derivative(z1)\n",
    "    dw1 = (1/batch_size) * dz1.dot(x.T)\n",
    "    db1 = (1/batch_size) * np.sum(dz1, axis=1).reshape(b1.size, 1)\n",
    "    return dw1, db1, dw2, db2, dw3, db3\n",
    "\n",
    "def update_parameters(parameters: list[np.ndarray], gradients: list[np.ndarray], lr: float):\n",
    "    \"\"\" Use gradients to update weights and biases \"\"\"\n",
    "    # Unpack weight/bias parameters and weight/bias gradients\n",
    "    w1, b1, w2, b2, w3, b3 = parameters\n",
    "    dw1, db1, dw2, db2, dw3, db3 = gradients\n",
    "    # Update Weights\n",
    "    w1 -= lr * dw1\n",
    "    w2 -= lr * dw2\n",
    "    w3 -= lr * dw3\n",
    "    # Updates Biases\n",
    "    b1 -= lr * db1\n",
    "    b2 -= lr * db2\n",
    "    b3 -= lr * db3\n",
    "    return w1, b1, w2, b2, w3, b3"
   ]
  },
  {
   "cell_type": "markdown",
   "metadata": {},
   "source": [
    "Now that all of the elements of the network have been assembled, we can write our training loop."
   ]
  },
  {
   "cell_type": "code",
   "execution_count": 291,
   "metadata": {},
   "outputs": [],
   "source": [
    "# First we generate our initial parameters\n",
    "input_size = x_train[0].size\n",
    "w1, b1, w2, b2, w3, b3 = initialise_parameters(input_size)\n",
    "\n",
    "# Training Loop\n",
    "# We have chosen to train on each example in the test set for 3 epochs (cycles)\n",
    "BATCH_SIZE = 64\n",
    "EPOCHS = 3\n",
    "LEARNING_RATE = 0.1\n",
    "n_samples = x_train.shape[0]\n",
    "losses = []\n",
    "for epoch in range(EPOCHS):\n",
    "    for idx in range(0, n_samples, BATCH_SIZE):\n",
    "        # Get batch of data\n",
    "        batch_x = x_train[idx:idx+BATCH_SIZE]\n",
    "        batch_y = y_train_one_hot[idx:idx+BATCH_SIZE]\n",
    "        batch_y = batch_y.swapaxes(0,1)\n",
    "        # Training Process\n",
    "        parameters = [w1, b1, w2, b2, w3, b3]\n",
    "        layer_io = feed_forward(batch_x, parameters)\n",
    "        dw1, db1, dw2, db2, dw3, db3 = back_propagate(batch_x, batch_y,\n",
    "                                                        layer_io, parameters)\n",
    "        gradients = [dw1, db1, dw2, db2, dw3, db3]\n",
    "        w1, b1, w2, b2, w3, b3 = update_parameters(parameters, gradients, LEARNING_RATE)\n",
    "        # Keep Track of Loss so we can plot training progress\n",
    "        predictions = layer_io[-1]\n",
    "        predictions, batch_y = predictions.swapaxes(0,1), batch_y.swapaxes(0,1)\n",
    "        loss = cost_function(predictions, batch_y)\n",
    "        losses.append(loss)\n",
    "final_parameters = [w1, b1, w2, b2, w3, b3]"
   ]
  },
  {
   "cell_type": "code",
   "execution_count": 292,
   "metadata": {},
   "outputs": [
    {
     "data": {
      "image/png": "[encoded data removed]",
      "text/plain": [
       "<Figure size 640x480 with 1 Axes>"
      ]
     },
     "metadata": {},
     "output_type": "display_data"
    }
   ],
   "source": [
    "# Plot the loss over the course of training the model\n",
    "plt.plot(losses)\n",
    "plt.title(\"Loss\")\n",
    "plt.xlabel(\"Batch Iterations\")\n",
    "plt.ylabel(\"Loss\")\n",
    "plt.show()"
   ]
  },
  {
   "cell_type": "code",
   "execution_count": 294,
   "metadata": {},
   "outputs": [
    {
     "name": "stdout",
     "output_type": "stream",
     "text": [
      "0.9498\n",
      "[7 2 1 0 4] [7 2 1 0 4]\n"
     ]
    }
   ],
   "source": [
    "def predict(x, params):\n",
    "    layer_io = feed_forward(x, params)\n",
    "    output = layer_io[-1].swapaxes(0,1)\n",
    "    return output\n",
    "\n",
    "def get_accuracy(predictions, Y):\n",
    "    return np.sum(predictions == Y) / Y.size\n",
    "\n",
    "# Check accuracy of the model using the test set\n",
    "predictions = predict(x_test, final_parameters)\n",
    "predictions = np.argmax(predictions, axis=1)\n",
    "accuracy = get_accuracy(predictions, y_test)\n",
    "print(f\"Model has {accuracy} accuracy on test set.\")\n",
    "print(predictions[0:5], y_test[0:5])"
   ]
  }
 ],
 "metadata": {
  "kernelspec": {
   "display_name": "nn_scratch",
   "language": "python",
   "name": "python3"
  },
  "language_info": {
   "codemirror_mode": {
    "name": "ipython",
    "version": 3
   },
   "file_extension": ".py",
   "mimetype": "text/x-python",
   "name": "python",
   "nbconvert_exporter": "python",
   "pygments_lexer": "ipython3",
   "version": "3.11.5"
  }
 },
 "nbformat": 4,
 "nbformat_minor": 2
}
